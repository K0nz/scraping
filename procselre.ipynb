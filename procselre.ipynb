{
 "cells": [
  {
   "cell_type": "markdown",
   "metadata": {},
   "source": [
    "Importando as bibliotecas necessárias"
   ]
  },
  {
   "cell_type": "code",
   "execution_count": null,
   "metadata": {},
   "outputs": [],
   "source": [
    "import requests\n",
    "from bs4 import BeautifulSoup\n",
    "import pandas as pd\n",
    "import sqlite3 as lite"
   ]
  },
  {
   "cell_type": "markdown",
   "metadata": {},
   "source": [
    "Criando o cursor sql que será usado posteriormente"
   ]
  },
  {
   "cell_type": "code",
   "execution_count": null,
   "metadata": {},
   "outputs": [],
   "source": [
    "con = lite.connect('leiloeiros.db')"
   ]
  },
  {
   "cell_type": "markdown",
   "metadata": {},
   "source": [
    "Adquirindo os dados do site, dando a requisição necessária"
   ]
  },
  {
   "cell_type": "code",
   "execution_count": null,
   "metadata": {},
   "outputs": [],
   "source": [
    "res = requests.post(\"http://200.198.139.228/leiloeiros/busca/listar\", data = {'Nome':'Todos', 'CodMunicipio':'0'})"
   ]
  },
  {
   "cell_type": "markdown",
   "metadata": {},
   "source": [
    "Criando o arquivo texto em html do site"
   ]
  },
  {
   "cell_type": "code",
   "execution_count": null,
   "metadata": {},
   "outputs": [],
   "source": [
    "soup = BeautifulSoup(res.text, 'html.parser')"
   ]
  },
  {
   "cell_type": "markdown",
   "metadata": {},
   "source": [
    "Separando apenas os dados sobre os leiloeiros em lista"
   ]
  },
  {
   "cell_type": "code",
   "execution_count": null,
   "metadata": {},
   "outputs": [],
   "source": [
    "leiloeiros = str(soup).split('<hr/>')\n",
    "leiloeiros.pop()\n",
    "leiloeiros.pop()\n",
    "leiloeiros = leiloeiros[4:]"
   ]
  },
  {
   "cell_type": "markdown",
   "metadata": {},
   "source": [
    "Criação de função que acha o intervalo de uma substring, da-se valores e retorna a substring entre esses valores:<br/>\n",
    "Necessita de três argumentos:<br/>\n",
    "a = string<br/>\n",
    "b = substring única que esteja antes da substring que se queira<br/>\n",
    "c = substring única que esteja após a substring que se queira, valor pedrão é vazio, a substring irá até o final da string<br/>\n",
    "ex: \"amundob\" querendo-se retirar \"mundo\" da string, usa-se stringclip(\"amundob\",\"a\",\"b\")"
   ]
  },
  {
   "cell_type": "code",
   "execution_count": null,
   "metadata": {},
   "outputs": [],
   "source": [
    "def stringclip(a,b,c=''):\n",
    "                x = str(a).find(b)\n",
    "                x += len(b)\n",
    "                if c != '':\n",
    "                    y = str(a)[x:].find(c)\n",
    "                    return str(a)[x:x+y]\n",
    "                else:\n",
    "                    return str(a)[x:]"
   ]
  },
  {
   "cell_type": "markdown",
   "metadata": {},
   "source": [
    "Função que deleta uma substring dado os valores iniciais e finais.<br/>\n",
    "a = string<br/>\n",
    "b = posição inicial do corte, incluso<br/>\n",
    "c = posição final do corte, incluso<br/>"
   ]
  },
  {
   "cell_type": "code",
   "execution_count": null,
   "metadata": {},
   "outputs": [],
   "source": [
    "def delsubstr(a,b,c):\n",
    "        x = str(a).find(b)\n",
    "        x += len(b)\n",
    "        y = str(a)[x:].find(c)\n",
    "        return str(a)[x+y:]\n"
   ]
  },
  {
   "cell_type": "markdown",
   "metadata": {},
   "source": [
    "Criando e povoando as listas que terão os dados, cada lista será uma coluna:\n",
    "O padrão pra cada lista e iteração é:\n",
    "- procura-se o intervalo que contém a informação da coluna e armazena\n",
    "- deleta-se o intervalo com a informação e suas tags\n",
    "- as colunas não utilizadas ficam em branco"
   ]
  },
  {
   "cell_type": "code",
   "execution_count": null,
   "metadata": {},
   "outputs": [],
   "source": [
    "count = 0\n",
    "matriculas = []\n",
    "nomes = []\n",
    "status = []\n",
    "enderecos = []\n",
    "sites = []\n",
    "posses = []\n",
    "telefones = []\n",
    "emails = []\n",
    "publis = []\n",
    "motivos = []\n",
    "prepostos = []\n",
    "\n",
    "for i in leiloeiros:\n",
    "    \n",
    "    a = leiloeiros[count]\n",
    "\n",
    "    #Procurando a matrícula:\n",
    "    b = '\"#A01A14\">'\n",
    "    c = '<'\n",
    "    d = matriculas\n",
    "    d.append(stringclip(a,b,c))             #adicionando a matrícula à lista\n",
    "    a = delsubstr(a,b,c)                    #deletando a substring utilizada\n",
    "\n",
    "    #Procurando o nome:\n",
    "    b = ' - '\n",
    "    c = '<'\n",
    "    d = nomes\n",
    "    d.append(stringclip(a,b,c))             #adicionando o nome à lista\n",
    "    a = delsubstr(a,b,c)                    #deletando a substring utilizada\n",
    "    \n",
    "\n",
    "    if 'Cancelado' in str(a)[:50]:          #teste do status do leiloeiro, usado por terem dados diferentes\n",
    "        \n",
    "        status.append(\"Cancelado\")          #Adicionando o status à lista\n",
    "        b = '<font color=\"#FF0000\">'\n",
    "        c = '<br/>'\n",
    "        a = delsubstr(a,b,c)                #Deletando a substring utilizada\n",
    "        \n",
    "        #Procurando o endereco dos cancelados\n",
    "        b = '<br/>'\n",
    "        c = '<br/>'\n",
    "        d = enderecos               \n",
    "        d.append(stringclip(a,b,c))         #Adicionando o endereco dos cancelados à lista\n",
    "        a = delsubstr(a,b,c)        #       Deletando a substring utilizada\n",
    "\n",
    "        #Procurando a data de posse dos cancelados:\n",
    "        b = ': '\n",
    "        c = '<'\n",
    "        d = posses\n",
    "        d.append(stringclip(a,b,c))         #Adicionando a data de posse dos cancelados à lista\n",
    "        a = delsubstr(a,b,c)                #Deletando a substring utilizada\n",
    "\n",
    "        #Procurando a publicacao do cancelamento:\n",
    "        b = 'f=\"'\n",
    "        c = '\"'\n",
    "        d = publis\n",
    "        d.append(stringclip(a,b,c))         #Adicionando a publicação no diário oficial do cancelamento à lista\n",
    "        a = delsubstr(a,b,c)                #Deletando a substring utilizada\n",
    "\n",
    "        #Procurando o motivo do cancelamento:\n",
    "        b = 'Motivo do Cancelamento: '\n",
    "        c = ''\n",
    "        d = motivos\n",
    "        d.append(stringclip(a,b,c))         #Adicinando o motivo do cancelamento à lista\n",
    "        a = delsubstr(a,b,c)                #Deletando a substring utilizada\n",
    "\n",
    "        #adicionando as infos vazias:\n",
    "        sites.append('')\n",
    "        telefones.append('')\n",
    "        emails.append('')\n",
    "        prepostos.append('')\n",
    "\n",
    "    else:\n",
    "\n",
    "        #Foi chamado aqueles que não foram cancelados de \"Atuantes\"\n",
    "        status.append(\"Atuante\")            #Adicionando o status de atuante à lista\n",
    "\n",
    "        #Procurando o site, caso houver\n",
    "        if 'http://' in a[:50]:\n",
    "            b = 'f=\"'\n",
    "            c = '\"'\n",
    "            d = sites\n",
    "            d.append(stringclip(a,b,c))     #Adicionando o site à lista\n",
    "            a = delsubstr(a,b,c)            #Deletando a substring utilizada\n",
    "        else:\n",
    "            sites.append('')                #Adicionando o vazio à lista de site\n",
    "        \n",
    "        #Procurando data de posse:\n",
    "        b = '</b>'\n",
    "        c = '<br/>'\n",
    "        d = posses\n",
    "        d.append(stringclip(a,b,c))         #Adicionando a data de posse a lista\n",
    "        a = delsubstr(a,b,c)                #Deletando a substring utilizada\n",
    "\n",
    "        #Adicionando a primeira linha do endereco\n",
    "        b = '<br/>'\n",
    "        c = '<br/><'\n",
    "        end1 = stringclip(a,b,c)            #Adicionando a primeira linha do endereco, referente a rua, será concatenada posteriormente\n",
    "        end1 = end1.replace('</b>','')      #Retirando substrings extra da string que será utilizada na lista\n",
    "        a = delsubstr(a,b,c)                #Deletando a substring utilizada\n",
    "\n",
    "        #Segunda linha do endereco\n",
    "        b = 'b>'\n",
    "        c = '</b>'\n",
    "        cidade = stringclip(a,b,c)          #Adicionando a segunda linha do endereco, referente a cidade\n",
    "        cidade = cidade.replace('</b>','')  #Retirando substrings extra da string que será utilizada na lista\n",
    "        a = delsubstr(a,b,c)                #Deletando a substring utilizada\n",
    "\n",
    "        #Terceira linha do endereco retirada diretamente do str do site\n",
    "        b = \"<br/>\"\n",
    "        c = \"<br/>\"\n",
    "        cep = stringclip(a,b,c)             #Adicionando a terceira linha do endereco, referente ao CEP\n",
    "        a = delsubstr(a,b,c)                #Deletando a substring utilizada\n",
    "\n",
    "        endereco = end1+', '+cidade+\", \"+cep #concatenando as strings de endereco\n",
    "        enderecos.append(endereco)          #Adicionando os enderecos concatenados à lista\n",
    "\n",
    "        #Procurando o telefone:\n",
    "        b = \"Telefone : \"\n",
    "        c = '<br/>'\n",
    "        tel = stringclip(a,b,c)             #Criando a string contendo telefone\n",
    "        tel = tel.replace('\\xa0',' ')       #Retirando substrings extras\n",
    "        telefones.append(tel)               #Adicionando o telefone à lista\n",
    "        a = delsubstr(a,b,c)                #Deletando a substring utilizada\n",
    "\n",
    "\n",
    "        #Procurando o email e verificando a existência de preposto:\n",
    "        b = 'e-Mail : '\n",
    "        c = ''\n",
    "\n",
    "        email = stringclip(a,b,c)               #string que vai até o final\n",
    "\n",
    "        #Verificação de preposto\n",
    "        if 'Preposto' in email:\n",
    "            d = \"Preposto : \"\n",
    "            prepostos.append(stringclip(email,d))   #Adicionando o preposto a lista\n",
    "            c = \"<br/>\"                             #Criando a var para ser usada para procurar o email\n",
    "        \n",
    "        else:\n",
    "            prepostos.append('')                    #Adicionando o preposto vazio à lista\n",
    "\n",
    "        emails.append(stringclip(a,b,c))            #Adicionando o email à lista\n",
    "        a = delsubstr(a,b,c)                        #Deletando a substring utilizada, redundante\n",
    "\n",
    "        #Adicionando as colunas vazias:\n",
    "        publis.append('')\n",
    "        motivos.append('')\n",
    "\n",
    "    count += 1\n"
   ]
  },
  {
   "cell_type": "markdown",
   "metadata": {},
   "source": [
    "Nome das colunas do df, já obedecendo o padrão do schema de SQL"
   ]
  },
  {
   "cell_type": "code",
   "execution_count": null,
   "metadata": {},
   "outputs": [],
   "source": [
    "colunas = [\\\n",
    "            \"MATRICULA\",\\\n",
    "            \"NOME\",\\\n",
    "            \"STATUS\",\\\n",
    "            \"SITE\",\\\n",
    "            \"DATA_POSSE\",\\\n",
    "            \"ENDERECOS\",\\\n",
    "            \"TELEFONES\",\\\n",
    "            \"EMAILS\",\\\n",
    "            \"PUBLICACAO_DIARIO\",\\\n",
    "            \"MOTIVO_CANCELAMENTO\",\\\n",
    "            \"PREPOSTO\"\n",
    "            ]"
   ]
  },
  {
   "cell_type": "markdown",
   "metadata": {},
   "source": [
    "Dados que alimentarão o Dataframe"
   ]
  },
  {
   "cell_type": "code",
   "execution_count": null,
   "metadata": {},
   "outputs": [],
   "source": [
    "dados = list(zip(\\\n",
    "    matriculas,\\\n",
    "    nomes,\\\n",
    "    status,\\\n",
    "    sites,\\\n",
    "    posses,\\\n",
    "    enderecos,\\\n",
    "    telefones,\\\n",
    "    emails,\\\n",
    "    publis,\\\n",
    "    motivos,\\\n",
    "    prepostos))"
   ]
  },
  {
   "cell_type": "markdown",
   "metadata": {},
   "source": [
    "criando o df pandas"
   ]
  },
  {
   "cell_type": "code",
   "execution_count": null,
   "metadata": {},
   "outputs": [],
   "source": [
    "df = pd.DataFrame(dados,columns=colunas)"
   ]
  },
  {
   "cell_type": "markdown",
   "metadata": {},
   "source": [
    "Criando o db sqlite requerido por método de dataframes pandas"
   ]
  },
  {
   "cell_type": "code",
   "execution_count": null,
   "metadata": {},
   "outputs": [],
   "source": [
    "db = df.to_sql('leiloeiros',con,index=False)"
   ]
  }
 ],
 "metadata": {
  "kernelspec": {
   "display_name": "Python 3",
   "language": "python",
   "name": "python3"
  },
  "language_info": {
   "codemirror_mode": {
    "name": "ipython",
    "version": 3
   },
   "file_extension": ".py",
   "mimetype": "text/x-python",
   "name": "python",
   "nbconvert_exporter": "python",
   "pygments_lexer": "ipython3",
   "version": "3.11.4"
  },
  "orig_nbformat": 4
 },
 "nbformat": 4,
 "nbformat_minor": 2
}
